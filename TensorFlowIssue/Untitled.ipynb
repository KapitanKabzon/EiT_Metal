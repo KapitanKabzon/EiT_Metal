{
 "cells": [
  {
   "cell_type": "code",
   "execution_count": 1,
   "metadata": {},
   "outputs": [
    {
     "name": "stdout",
     "output_type": "stream",
     "text": [
      "2.4.1\n",
      "Model Original input size: \n",
      "Tensor(\"input_tensor:0\", shape=(1, None, None, 3), dtype=uint8)\n",
      "Model modified input size: \n",
      "Tensor(\"input_tensor:0\", shape=(1, 640, 640, 3), dtype=uint8)\n"
     ]
    },
    {
     "name": "stderr",
     "output_type": "stream",
     "text": [
      "WARNING:absl:Found untraced functions such as restored_function_body, restored_function_body, restored_function_body, restored_function_body, restored_function_body while saving (showing 5 of 155). These functions will not be directly callable after loading.\n",
      "WARNING:absl:Found untraced functions such as restored_function_body, restored_function_body, restored_function_body, restored_function_body, restored_function_body while saving (showing 5 of 155). These functions will not be directly callable after loading.\n"
     ]
    },
    {
     "name": "stdout",
     "output_type": "stream",
     "text": [
      "INFO:tensorflow:Assets written to: saved_model_updated\\assets\n"
     ]
    },
    {
     "name": "stderr",
     "output_type": "stream",
     "text": [
      "INFO:tensorflow:Assets written to: saved_model_updated\\assets\n"
     ]
    },
    {
     "name": "stdout",
     "output_type": "stream",
     "text": [
      "Model loaded modified input size\n",
      "Tensor(\"input_tensor:0\", shape=(1, None, None, 3), dtype=uint8)\n"
     ]
    }
   ],
   "source": [
    "import tensorflow as tf\n",
    "\n",
    "print(tf.__version__)\n",
    "\n",
    "\n",
    "model = tf.saved_model.load(\"ssd_mobilenet_v2_fpnlite_640x640_coco17_tpu-8/saved_model\") #taken from Object detection zoo\n",
    "print('Model Original input size: ')\n",
    "print(model.signatures['serving_default'].inputs[0])\n",
    "\n",
    "\n",
    "concrete_func = model.signatures[\n",
    "    tf.saved_model.DEFAULT_SERVING_SIGNATURE_DEF_KEY]\n",
    "concrete_func.inputs[0].set_shape([1, 640, 640, 3])\n",
    "print('Model modified input size: ')\n",
    "print(model.signatures['serving_default'].inputs[0])\n",
    "\n",
    "tf.saved_model.save(model, \"saved_model_updated\")\n",
    "\n",
    "\n",
    "\n",
    "\n",
    "model2 = tf.saved_model.load(\"saved_model_updated\")\n",
    "\n",
    "print('Model loaded modified input size')\n",
    "print(model2.signatures['serving_default'].inputs[0])"
   ]
  },
  {
   "cell_type": "code",
   "execution_count": null,
   "metadata": {},
   "outputs": [],
   "source": []
  }
 ],
 "metadata": {
  "kernelspec": {
   "display_name": "Python 3",
   "language": "python",
   "name": "python3"
  },
  "language_info": {
   "codemirror_mode": {
    "name": "ipython",
    "version": 3
   },
   "file_extension": ".py",
   "mimetype": "text/x-python",
   "name": "python",
   "nbconvert_exporter": "python",
   "pygments_lexer": "ipython3",
   "version": "3.8.5"
  }
 },
 "nbformat": 4,
 "nbformat_minor": 4
}
